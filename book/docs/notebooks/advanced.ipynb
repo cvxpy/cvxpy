{
 "cells": [
  {
   "cell_type": "markdown",
   "id": "879a8e2d-538f-4500-ba46-a650dd4cacf7",
   "metadata": {
    "jupyter": {
     "outputs_hidden": false
    }
   },
   "source": [
    "# Advanced "
   ]
  },
  {
   "cell_type": "code",
   "execution_count": 1,
   "id": "1675aa38-dff4-4164-b5f8-25c761447996",
   "metadata": {
    "collapsed": false,
    "jupyter": {
     "outputs_hidden": false
    }
   },
   "outputs": [
    {
     "ename": "ModuleNotFoundError",
     "evalue": "No module named 'cvxpy'",
     "output_type": "error",
     "traceback": [
      "\u001b[0;31m---------------------------------------------------------------------------\u001b[0m",
      "\u001b[0;31mModuleNotFoundError\u001b[0m                       Traceback (most recent call last)",
      "Cell \u001b[0;32mIn[1], line 1\u001b[0m\n\u001b[0;32m----> 1\u001b[0m \u001b[38;5;28;01mfrom\u001b[39;00m \u001b[38;5;21;01mcvxpy\u001b[39;00m \u001b[38;5;28;01mimport\u001b[39;00m \u001b[38;5;241m*\u001b[39m\n\u001b[1;32m      3\u001b[0m \u001b[38;5;66;03m# Create two scalar optimization variables.\u001b[39;00m\n\u001b[1;32m      4\u001b[0m x \u001b[38;5;241m=\u001b[39m Variable()\n",
      "\u001b[0;31mModuleNotFoundError\u001b[0m: No module named 'cvxpy'"
     ]
    }
   ],
   "source": [
    "from cvxpy import *\n",
    "\n",
    "# Create two scalar optimization variables.\n",
    "x = Variable()\n",
    "y = Variable()\n",
    "\n",
    "# Create two constraints.\n",
    "constraints = [x + y == 1,\n",
    "               x - y >= 1]\n",
    "\n",
    "# Form objective.\n",
    "obj = Minimize(square(x - y))\n",
    "\n",
    "# Form and solve problem.\n",
    "prob = Problem(obj, constraints)\n",
    "prob.solve()\n",
    "\n",
    "# The optimal dual variable (Lagrange multiplier) for\n",
    "# a constraint is stored in constraint.dual_value.\n",
    "print(f\"optimal (x + y == 1) dual variable {constraints[0].dual_value}\")\n",
    "print(f\"optimal (x - y >= 1) dual variable {constraints[1].dual_value}\")\n",
    "print(f\"x - y value: {(x - y).value}\")"
   ]
  },
  {
   "cell_type": "code",
   "execution_count": null,
   "id": "227c9708",
   "metadata": {
    "collapsed": false,
    "jupyter": {
     "outputs_hidden": false
    }
   },
   "outputs": [],
   "source": [
    "# Solving a problem with different solvers.\n",
    "x = Variable(2)\n",
    "obj = Minimize(norm(x, 2) + norm(x, 1))\n",
    "constraints = [x >= 2]\n",
    "prob = Problem(obj, constraints)\n",
    "\n",
    "# Solve with ECOS.\n",
    "prob.solve(solver=ECOS)\n",
    "print(f\"optimal value with ECOS: {prob.value}\")\n",
    "\n",
    "# Solve with CVXOPT.\n",
    "prob.solve(solver=CVXOPT)\n",
    "print(f\"optimal value with CVXOPT: {prob.value}\")\n",
    "\n",
    "# Solve with SCS.\n",
    "prob.solve(solver=SCS)\n",
    "print(f\"optimal value with SCS: {prob.value}\")"
   ]
  },
  {
   "cell_type": "code",
   "execution_count": null,
   "id": "7e83f75a",
   "metadata": {
    "collapsed": false,
    "jupyter": {
     "outputs_hidden": false
    }
   },
   "outputs": [],
   "source": [
    "# Solve with ECOS.\n",
    "prob.solve(solver=ECOS, verbose=True)\n",
    "print(f\"optimal value with ECOS: {prob.value}\")"
   ]
  },
  {
   "cell_type": "code",
   "execution_count": null,
   "id": "f95dee71",
   "metadata": {
    "collapsed": false,
    "jupyter": {
     "outputs_hidden": false
    }
   },
   "outputs": [],
   "source": [
    "# Solve with SCS and display output.\n",
    "opts = {\"USE_INDIRECT\": False}\n",
    "prob.solve(solver=SCS, verbose=True, solver_specific_opts=opts)\n",
    "print(f\"optimal value with SCS: {prob.value}\")"
   ]
  },
  {
   "cell_type": "code",
   "execution_count": null,
   "id": "e28f472f",
   "metadata": {
    "collapsed": false,
    "jupyter": {
     "outputs_hidden": false
    }
   },
   "outputs": [],
   "source": [
    "# Get ECOS arguments.\n",
    "c, G, h, dims, A, b = prob.get_problem_data(ECOS)\n",
    "\n",
    "# Get CVXOPT arguments.\n",
    "c, G, h, dims, A, b = prob.get_problem_data(CVXOPT)\n",
    "\n",
    "# Get CVXOPT arguments.\n",
    "data, dims = prob.get_problem_data(SCS)"
   ]
  },
  {
   "cell_type": "code",
   "execution_count": null,
   "id": "02542ff2",
   "metadata": {
    "collapsed": false,
    "jupyter": {
     "outputs_hidden": false
    }
   },
   "outputs": [],
   "source": []
  }
 ],
 "metadata": {
  "kernelspec": {
   "display_name": "Python 3 (ipykernel)",
   "language": "python",
   "name": "python3"
  },
  "language_info": {
   "codemirror_mode": {
    "name": "ipython",
    "version": 3
   },
   "file_extension": ".py",
   "mimetype": "text/x-python",
   "name": "python",
   "nbconvert_exporter": "python",
   "pygments_lexer": "ipython3",
   "version": "3.10.10"
  }
 },
 "nbformat": 4,
 "nbformat_minor": 5
}
