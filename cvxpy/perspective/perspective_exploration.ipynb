{
 "cells": [
  {
   "cell_type": "code",
   "execution_count": 46,
   "metadata": {},
   "outputs": [],
   "source": [
    "import cvxpy as cp\n",
    "import numpy as np\n",
    "from cvxpy.reductions.dcp2cone.cone_matrix_stuffing import ConeMatrixStuffing\n",
    "from cvxpy.perspective.perspective_utils import form_cone_constraint"
   ]
  },
  {
   "cell_type": "code",
   "execution_count": 47,
   "metadata": {},
   "outputs": [],
   "source": [
    "x = cp.Variable()\n",
    "\n",
    "obj = cp.square(x)+2*x-4\n",
    "constraints = []\n",
    "# constraints = [x <= 1, x >= .5]\n",
    "\n",
    "prob = cp.Problem(cp.Minimize(obj),constraints)\n",
    "\n",
    "# prob.solve()"
   ]
  },
  {
   "cell_type": "code",
   "execution_count": 48,
   "metadata": {},
   "outputs": [],
   "source": [
    "chain = prob._construct_chain()\n",
    "\n",
    "chain.reductions = chain.reductions[:-1] #skip solver reduction\n",
    "\n",
    "prob_canon = chain.apply(prob)[0] #grab problem instance"
   ]
  },
  {
   "cell_type": "code",
   "execution_count": 49,
   "metadata": {},
   "outputs": [],
   "source": [
    "# get cone representation of c, A, and b for some problem.\n",
    "c = prob_canon.c.toarray().flatten()[:-1] # TODO: why\n",
    "d = prob_canon.c.toarray().flatten()[-1]\n",
    "\n",
    "Ab = prob_canon.A.toarray().reshape((-1,len(c)+1),order=\"F\")\n",
    "A, b = Ab[:,:-1], Ab[:,-1]\n",
    "\n",
    "cones = prob_canon.cone_dims # get the cones used and the dims\n",
    "\n",
    "# given f in epigraph form, aka epi f = \\{(x,t) | f(x) \\leq t\\} \n",
    "# = \\{(x,t) | Fx +tg + e \\in K} for K a cone, the epigraph of the\n",
    "# perspective, \\{(x,s,t) | sf(x/s) \\leq t} = \\{(x,s,t) | Fx + tg + se \\in K\\}\n",
    "# If I have the problem \"minimize f(x)\" written in the CVXPY compatible \n",
    "# \"c^Tx, Ax+b \\in K\" form, I can re-write this in the graph form above via\n",
    "# x,t \\in \\epi f iff Ax + b \\in K and t-c^Tx \\in R_+ which I can further write\n",
    "# with block matrices as Fx + tg + e \\in K \\times R_+\n",
    "# with F = [A ], g = [0], e = [b]  \n",
    "#          [-c]      [1]      [-d]\n",
    "\n",
    "# Actually, all we need is Ax + 0*t + sb \\in K, -c^Tx + t - ds >= 0\n",
    "\n",
    "# F = np.vstack([A,-c])\n",
    "# g = np.hstack([np.zeros(A.shape[0]),1])\n",
    "# e = np.hstack([b,d])\n",
    "\n",
    "# Now we go to the graph form of the perspective. We add the constraint\n",
    "# that s be nonnegative because we are unsure whether it is implicit.\n",
    "# We want Fx + gt + se \\in K \\times R_+ in p^T(x,s,t), A, b form \n",
    "# A_pers = [F g e] b_pers = [0], p = (0 , 1 , 0) with variables in the order (x,t,s) = z\n",
    "# The final problem is minimzie p^Tz subject to A_persp z + b \\in K \\times R_+\n",
    "\n",
    "# A_pers = np.hstack([F,g.reshape((-1,1)),e.reshape((-1,1))])\n",
    "\n",
    "# b_pers = np.zeros(A_pers.shape[0])\n",
    "# p = np.zeros(A_pers.shape[1])\n",
    "# p[-2] = 1\n",
    "\n",
    "t = cp.Variable()\n",
    "s = cp.Variable()\n",
    "x_canon = prob_canon.x\n",
    "\n",
    "# x_new = cp.Variable(x_canon.shape)\n",
    "\n",
    "# z = cp.hstack([x_canon,t,s])\n",
    "\n",
    "# constraints = [A_pers[:-2]@z \\in K] # figure out general cone\n",
    "\n",
    "constraints = []\n",
    "\n",
    "x_pers = A@x_canon + s*b\n",
    "\n",
    "i = 0\n",
    "for con in prob_canon.constraints:\n",
    "    sz, tp = con.size, type(con)\n",
    "    guy = x_pers[i:i+sz]\n",
    "    # print(sz)\n",
    "    pers_constraint = form_cone_constraint(guy,con)\n",
    "    constraints.append(pers_constraint)\n",
    "    i += sz\n",
    "constraints.append(s >= 0)\n",
    "constraints.append(-c@x_canon + t - s*d >= 0)\n",
    "constraints.append( s <= .5)\n",
    "\n",
    "constraints.extend([x_canon[1] >= 2])\n",
    "\n",
    "perp_prob = cp.Problem(cp.Minimize(t),constraints)"
   ]
  },
  {
   "cell_type": "code",
   "execution_count": 50,
   "metadata": {},
   "outputs": [
    {
     "data": {
      "text/plain": [
       "{654: 0, 648: 1}"
      ]
     },
     "execution_count": 50,
     "metadata": {},
     "output_type": "execute_result"
    }
   ],
   "source": [
    "prob_canon.var_id_to_col"
   ]
  },
  {
   "cell_type": "code",
   "execution_count": 51,
   "metadata": {},
   "outputs": [
    {
     "data": {
      "text/plain": [
       "[648]"
      ]
     },
     "execution_count": 51,
     "metadata": {},
     "output_type": "execute_result"
    }
   ],
   "source": [
    "[v.id for v in prob.variables()]"
   ]
  },
  {
   "cell_type": "code",
   "execution_count": 35,
   "metadata": {},
   "outputs": [
    {
     "data": {
      "text/plain": [
       "(array(0.5), 2.0000000001441576, 9.999999956481906)"
      ]
     },
     "execution_count": 35,
     "metadata": {},
     "output_type": "execute_result"
    }
   ],
   "source": [
    "perp_prob.solve()\n",
    "\n",
    "s.value, x_canon.value[1], perp_prob.value\n",
    "\n",
    "# perp_prob.constraints"
   ]
  },
  {
   "cell_type": "code",
   "execution_count": 45,
   "metadata": {},
   "outputs": [
    {
     "data": {
      "text/plain": [
       "10.000000017815246"
      ]
     },
     "execution_count": 45,
     "metadata": {},
     "output_type": "execute_result"
    }
   ],
   "source": [
    "xx = cp.Variable()\n",
    "ss = cp.Variable()\n",
    "\n",
    "obj = cp.quad_over_lin(xx,ss) + 2*xx - 4*ss\n",
    "constraints = [xx >= 2,ss <=.5 ]\n",
    "\n",
    "prob_val = cp.Problem(cp.Minimize(obj),constraints)\n",
    "\n",
    "prob_val.solve()"
   ]
  },
  {
   "cell_type": "code",
   "execution_count": 37,
   "metadata": {},
   "outputs": [
    {
     "data": {
      "text/plain": [
       "(array(0.5), array(2.))"
      ]
     },
     "execution_count": 37,
     "metadata": {},
     "output_type": "execute_result"
    }
   ],
   "source": [
    "ss.value,xx.value"
   ]
  },
  {
   "cell_type": "code",
   "execution_count": 33,
   "metadata": {},
   "outputs": [
    {
     "data": {
      "text/plain": [
       "-4.0"
      ]
     },
     "execution_count": 33,
     "metadata": {},
     "output_type": "execute_result"
    }
   ],
   "source": [
    "d"
   ]
  },
  {
   "cell_type": "code",
   "execution_count": null,
   "metadata": {},
   "outputs": [],
   "source": []
  }
 ],
 "metadata": {
  "kernelspec": {
   "display_name": "Python 3.9.13 ('.venv': venv)",
   "language": "python",
   "name": "python3"
  },
  "language_info": {
   "codemirror_mode": {
    "name": "ipython",
    "version": 3
   },
   "file_extension": ".py",
   "mimetype": "text/x-python",
   "name": "python",
   "nbconvert_exporter": "python",
   "pygments_lexer": "ipython3",
   "version": "3.9.13"
  },
  "orig_nbformat": 4,
  "vscode": {
   "interpreter": {
    "hash": "6e404d129a111ebac30e0011f1f053fe7cb143db1643820c18cae4601b971a3e"
   }
  }
 },
 "nbformat": 4,
 "nbformat_minor": 2
}
