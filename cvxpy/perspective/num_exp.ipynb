{
 "cells": [
  {
   "cell_type": "code",
   "execution_count": 12,
   "metadata": {},
   "outputs": [],
   "source": [
    "import cvxpy as cp\n",
    "import numpy as np\n",
    "\n",
    "x = cp.Variable()\n",
    "s = cp.Variable(nonneg=True)\n",
    "f_exp = cp.square(x)+x\n",
    "# obj = perspective(f_exp,s)"
   ]
  },
  {
   "cell_type": "code",
   "execution_count": 13,
   "metadata": {},
   "outputs": [
    {
     "ename": "IndexError",
     "evalue": "index 1 is out of bounds for axis 0 with size 1",
     "output_type": "error",
     "traceback": [
      "\u001b[0;31m---------------------------------------------------------------------------\u001b[0m",
      "\u001b[0;31mIndexError\u001b[0m                                Traceback (most recent call last)",
      "\u001b[1;32m/Users/ericlux/Desk/cvxpy/cvxpy/perspective/num_exp.ipynb Cell 2\u001b[0m in \u001b[0;36m<cell line: 2>\u001b[0;34m()\u001b[0m\n\u001b[1;32m      <a href='vscode-notebook-cell:/Users/ericlux/Desk/cvxpy/cvxpy/perspective/num_exp.ipynb#W1sZmlsZQ%3D%3D?line=0'>1</a>\u001b[0m v \u001b[39m=\u001b[39m np\u001b[39m.\u001b[39marray([\u001b[39m3\u001b[39m])\n\u001b[0;32m----> <a href='vscode-notebook-cell:/Users/ericlux/Desk/cvxpy/cvxpy/perspective/num_exp.ipynb#W1sZmlsZQ%3D%3D?line=1'>2</a>\u001b[0m f_exp\u001b[39m.\u001b[39;49mnumeric(v)\n",
      "File \u001b[0;32m~/Desk/cvxpy/cvxpy/atoms/affine/binary_operators.py:270\u001b[0m, in \u001b[0;36mmultiply.numeric\u001b[0;34m(self, values)\u001b[0m\n\u001b[1;32m    268\u001b[0m \u001b[39mif\u001b[39;00m sp\u001b[39m.\u001b[39missparse(values[\u001b[39m0\u001b[39m]):\n\u001b[1;32m    269\u001b[0m     \u001b[39mreturn\u001b[39;00m values[\u001b[39m0\u001b[39m]\u001b[39m.\u001b[39mmultiply(values[\u001b[39m1\u001b[39m])\n\u001b[0;32m--> 270\u001b[0m \u001b[39melif\u001b[39;00m sp\u001b[39m.\u001b[39missparse(values[\u001b[39m1\u001b[39;49m]):\n\u001b[1;32m    271\u001b[0m     \u001b[39mreturn\u001b[39;00m values[\u001b[39m1\u001b[39m]\u001b[39m.\u001b[39mmultiply(values[\u001b[39m0\u001b[39m])\n\u001b[1;32m    272\u001b[0m \u001b[39melse\u001b[39;00m:\n",
      "\u001b[0;31mIndexError\u001b[0m: index 1 is out of bounds for axis 0 with size 1"
     ]
    }
   ],
   "source": [
    "v = np.array([3])\n",
    "f_exp.numeric(v)"
   ]
  },
  {
   "cell_type": "code",
   "execution_count": null,
   "metadata": {},
   "outputs": [],
   "source": []
  }
 ],
 "metadata": {
  "kernelspec": {
   "display_name": "Python 3.9.13 ('.venv': venv)",
   "language": "python",
   "name": "python3"
  },
  "language_info": {
   "codemirror_mode": {
    "name": "ipython",
    "version": 3
   },
   "file_extension": ".py",
   "mimetype": "text/x-python",
   "name": "python",
   "nbconvert_exporter": "python",
   "pygments_lexer": "ipython3",
   "version": "3.9.13"
  },
  "orig_nbformat": 4,
  "vscode": {
   "interpreter": {
    "hash": "6e404d129a111ebac30e0011f1f053fe7cb143db1643820c18cae4601b971a3e"
   }
  }
 },
 "nbformat": 4,
 "nbformat_minor": 2
}
