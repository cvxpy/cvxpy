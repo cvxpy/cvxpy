{
 "cells": [
  {
   "cell_type": "markdown",
   "metadata": {},
   "source": [
    "# Routing"
   ]
  },
  {
   "cell_type": "markdown",
   "metadata": {},
   "source": [
    "We consider a backbone network with $n$ nodes, and $n(n − 1)$ ingress-egress (IE)pairs. We index nodes as $i = 1,\\ldots,n$, and IE pairs as $(k, l)$, which refers to ingress (source)\n",
    "$l$ and egress (destination) $k$, i.e., from node $l$ to node $k$. The traffic from node $l$ to node $k$\n",
    "is denoted $T_{kl} \\geq 0$. Note that the traffic exiting at node $k$ is given by\n",
    "$E_k = \\sum_l T_{kl}$. We refer to the matrix $T$ as a traffic pattern.\n",
    "\n",
    "The network has m directed edges, with adjacency\n",
    "matrix $A$, where\n",
    "$$\n",
    "A_{ij} = \\begin{cases} +1 \\textrm{ if edge }j \\textrm{ enters node }$i$ \\\\\n",
    "−1 \\textrm{ if edge }j\\textrm{ leaves node }i\\\\\n",
    "0\\textrm{ otherwise}.\n",
    "\\end{cases}\n",
    "$$\n",
    "We allow the splitting of traffic corresponding to one IE pair, which means we can aggregate\n",
    "all flows in the network that share the same destination or egress node. We let $F_{kj} \\geq 0$\n",
    "denote the flow on edge $j$ that is destined for destination $k$.\n",
    "\n",
    "Conservation of flow and capacity constraints are given by the convex constraints\n",
    "$$\n",
    "\\begin{array}{cc}\n",
    "T + AF^T = 0, \\\\\n",
    "F^T1 \\leq c,\\; 0 \\leq F\n",
    "\\end{array}\n",
    "$$\n",
    "\n",
    "The optimization problem is to maximize the utility $U(T) = \\sum_{k\\neq l}\\psi(T_{kl})$ of the traffic flows,\n",
    "subject to conservation of flow and edge capacity constraints:\n",
    "$$\n",
    "\\begin{array}{cc}\n",
    "\\textrm{minimize} & \\sum_{k\\neq l}\\psi(T_{kl}) \\\\\n",
    "subject to & T + AF^T = 0, \\\\\n",
    "& F^T1 \\leq c, \\\\\n",
    "& 0 \\leq F\n",
    "\\end{array}\n",
    "$$"
   ]
  },
  {
   "cell_type": "code",
   "execution_count": 1,
   "metadata": {
    "collapsed": true
   },
   "outputs": [],
   "source": [
    "import numpy as np\n",
    "import cvxpy as cvx\n",
    "import matplotlib.pyplot as plt\n",
    "# import networkx as nx\n",
    "%matplotlib inline"
   ]
  },
  {
   "cell_type": "code",
   "execution_count": 22,
   "metadata": {
    "collapsed": false
   },
   "outputs": [
    {
     "name": "stdout",
     "output_type": "stream",
     "text": [
      "\n",
      "ECOS 2.0.4 - (C) embotech GmbH, Zurich Switzerland, 2012-15. Web: www.embotech.com/ECOS\n",
      "\n",
      "It     pcost       dcost      gap   pres   dres    k/t    mu     step   sigma     IR    |   BT\n",
      " 0  +0.000e+00  -3.175e+01  +2e+02  6e-01  5e-01  1e+00  3e+00    ---    ---    1  1  - |  -  - \n",
      " 1  -1.278e+01  -1.768e+01  +6e+01  1e-01  7e-02  3e-01  8e-01  0.8189  7e-02   1  1  1 |  0  0\n",
      " 2  -1.033e+01  -1.324e+01  +4e+01  7e-02  3e-02  3e-01  5e-01  0.6356  4e-01   1  1  1 |  0  0\n",
      " 3  -8.634e+00  -9.016e+00  +6e+00  8e-03  4e-03  4e-02  8e-02  0.8547  2e-02   1  1  1 |  0  0\n",
      " 4  -8.482e+00  -8.607e+00  +2e+00  3e-03  1e-03  1e-02  2e-02  0.8731  2e-01   1  1  1 |  0  0\n",
      " 5  -8.353e+00  -8.390e+00  +5e-01  7e-04  3e-04  2e-03  7e-03  0.9334  2e-01   1  1  1 |  0  0\n",
      " 6  -8.307e+00  -8.308e+00  +2e-02  2e-05  1e-05  7e-05  2e-04  0.9713  7e-04   1  1  1 |  0  0\n",
      " 7  -8.306e+00  -8.306e+00  +4e-04  6e-07  3e-07  2e-06  6e-06  0.9718  4e-04   2  1  1 |  0  0\n",
      " 8  -8.306e+00  -8.306e+00  +7e-06  9e-09  4e-09  3e-08  9e-08  0.9849  1e-04   2  1  1 |  0  0\n",
      " 9  -8.306e+00  -8.306e+00  +3e-07  4e-10  2e-10  1e-09  3e-09  0.9613  1e-04   2  1  1 |  0  0\n",
      "10  -8.306e+00  -8.306e+00  +1e-08  2e-11  9e-12  7e-11  2e-10  0.9432  7e-04   2  1  1 |  0  0\n",
      "\n",
      "OPTIMAL (within feastol=2.4e-11, reltol=1.8e-09, abstol=1.5e-08).\n",
      "Runtime: 0.001182 seconds.\n",
      "\n"
     ]
    },
    {
     "data": {
      "text/plain": [
       "8.3056585833248224"
      ]
     },
     "execution_count": 22,
     "metadata": {},
     "output_type": "execute_result"
    }
   ],
   "source": [
    "np.random.seed(1)\n",
    "n = 5\n",
    "edges = [(0,1), (3, 4), (1,2), (2,3), (4,2), (4, 0)]\n",
    "m = len(edges)\n",
    "A = np.zeros((n, m))\n",
    "for idx, edge in enumerate(edges):\n",
    "    A[edge[0], idx] = -1\n",
    "    A[edge[1], idx] = +1\n",
    "F = cvx.Variable((n, m))\n",
    "T = cvx.Variable((n, n))\n",
    "# Masks out diagonals.\n",
    "M = (np.ones((n, n)) - np.eye(n)).astype(bool)\n",
    "c = np.ones(m)\n",
    "T_min = np.zeros((n, n))\n",
    "\n",
    "obj = cvx.Maximize(cvx.sum(cvx.sqrt(T[M])))\n",
    "prob = cvx.Problem(obj, \n",
    "                   [A*F.T == T,\n",
    "                    F >= 0,\n",
    "                    cvx.sum(F, 0) <= c,\n",
    "                    (T - T_min)[M] >= 0])\n",
    "\n",
    "# Define problem data.\n",
    "prob.solve(solver=cvx.ECOS, verbose=True)"
   ]
  },
  {
   "cell_type": "code",
   "execution_count": 26,
   "metadata": {
    "collapsed": false
   },
   "outputs": [
    {
     "name": "stdout",
     "output_type": "stream",
     "text": [
      "Nodes of graph: \n",
      "[0, 1, 2, 3, 4]\n",
      "Edges of graph: \n",
      "[(0, 1), (0, 4), (1, 2), (2, 3), (2, 4), (3, 4)]\n"
     ]
    },
    {
     "data": {
      "image/png": "[encoded data removed]",
      "text/plain": [
       "<matplotlib.figure.Figure at 0x1190af910>"
      ]
     },
     "metadata": {},
     "output_type": "display_data"
    }
   ],
   "source": [
    "# Plot results.\n",
    "import networkx as nx\n",
    "\n",
    "G=nx.Graph()\n",
    "G.add_nodes_from(range(n))\n",
    "G.add_edges_from(edges)\n",
    "\n",
    "print(\"Nodes of graph: \")\n",
    "print(G.nodes())\n",
    "print(\"Edges of graph: \")\n",
    "print(G.edges())\n",
    "\n",
    "# Plot the result.\n",
    "plt.figure(figsize=(12,10))\n",
    "pos=nx.spring_layout(G)\n",
    "node_colors = cvx.diag(T).value.tolist()\n",
    "nodes = nx.draw_networkx_nodes(G,pos,node_color=node_colors, with_labels=False,\n",
    "                               node_size=100, node_cmap=plt.cm.Reds)\n",
    "edge_colors = cvx.sum(F, 0).value.tolist()\n",
    "edges = nx.draw_networkx_edges(G,pos,edge_color=edge_colors,width=4,\n",
    "                               edge_cmap=plt.cm.Blues, arrows=True)\n",
    "plt.colorbar(edges, label='Edge flow')\n",
    "plt.colorbar(nodes, label='Node traffic')\n",
    "plt.axis('off')\n",
    "plt.show()"
   ]
  },
  {
   "cell_type": "code",
   "execution_count": 3,
   "metadata": {
    "collapsed": false
   },
   "outputs": [
    {
     "ename": "NameError",
     "evalue": "name 'nodes' is not defined",
     "output_type": "error",
     "traceback": [
      "\u001b[0;31m---------------------------------------------------------------------------\u001b[0m",
      "\u001b[0;31mNameError\u001b[0m                                 Traceback (most recent call last)",
      "\u001b[0;32m<ipython-input-3-ef0b1e23c6e0>\u001b[0m in \u001b[0;36m<module>\u001b[0;34m()\u001b[0m\n\u001b[1;32m     31\u001b[0m \u001b[0mplt\u001b[0m\u001b[0;34m.\u001b[0m\u001b[0mfigure\u001b[0m\u001b[0;34m(\u001b[0m\u001b[0mfigsize\u001b[0m\u001b[0;34m=\u001b[0m\u001b[0;34m(\u001b[0m\u001b[0;36m12\u001b[0m\u001b[0;34m,\u001b[0m\u001b[0;36m10\u001b[0m\u001b[0;34m)\u001b[0m\u001b[0;34m)\u001b[0m\u001b[0;34m\u001b[0m\u001b[0m\n\u001b[1;32m     32\u001b[0m \u001b[0mpos\u001b[0m \u001b[0;34m=\u001b[0m \u001b[0mdict\u001b[0m\u001b[0;34m(\u001b[0m\u001b[0mzip\u001b[0m\u001b[0;34m(\u001b[0m\u001b[0mG\u001b[0m\u001b[0;34m,\u001b[0m\u001b[0mG\u001b[0m\u001b[0;34m)\u001b[0m\u001b[0;34m)\u001b[0m \u001b[0;31m# dictionary of node names->positions\u001b[0m\u001b[0;34m\u001b[0m\u001b[0m\n\u001b[0;32m---> 33\u001b[0;31m \u001b[0mnode_colors\u001b[0m \u001b[0;34m=\u001b[0m \u001b[0;34m[\u001b[0m\u001b[0;36m1\u001b[0m \u001b[0;32mfor\u001b[0m \u001b[0mnode\u001b[0m \u001b[0;32min\u001b[0m \u001b[0mnodes\u001b[0m\u001b[0;34m]\u001b[0m\u001b[0;34m\u001b[0m\u001b[0m\n\u001b[0m\u001b[1;32m     34\u001b[0m nodes = nx.draw_networkx_nodes(G,pos,node_color=node_colors, with_labels=False,\n\u001b[1;32m     35\u001b[0m                                node_size=100, node_cmap=plt.cm.Reds)\n",
      "\u001b[0;31mNameError\u001b[0m: name 'nodes' is not defined"
     ]
    }
   ],
   "source": [
    "\n",
    "\n",
    "grid_dim = 7\n",
    "p = grid_dim*grid_dim\n",
    "k = 6\n",
    "n = 2*(grid_dim-1)*grid_dim\n",
    "U = np.random.uniform(20, 50, size=k)\n",
    "L = -np.random.uniform(0, 5, size=p)\n",
    "c = np.random.uniform(5, 10, size=n)\n",
    "\n",
    "# Create a networkx graph.\n",
    "# G.nodes() is a list of node keys.\n",
    "# G.edges() is a list of edge keys of the form (node key, node key).\n",
    "G = nx.grid_2d_graph(grid_dim, grid_dim)\n",
    "# Map node key to the index in nodes.\n",
    "node_key_to_idx = {key:i for i, key in enumerate(G.nodes())}\n",
    "\n",
    "\n",
    "# Connect nodes via edges.\n",
    "for i, key in enumerate(G.edges()):\n",
    "    idx1 = node_key_to_idx[key[0]]\n",
    "    idx2 = node_key_to_idx[key[1]]\n",
    "    #edges[i].connect(nodes[idx1], nodes[idx2])\n",
    " \n",
    "# Plot the result.\n",
    "plt.figure(figsize=(12,10))\n",
    "pos = dict(zip(G,G)) # dictionary of node names->positions\n",
    "node_colors = [1 for node in nodes]\n",
    "nodes = nx.draw_networkx_nodes(G,pos,node_color=node_colors, with_labels=False,\n",
    "                               node_size=100, node_cmap=plt.cm.Reds)\n",
    "edge_colors = [1 for edge in edges]\n",
    "edges = nx.draw_networkx_edges(G,pos,edge_color=edge_colors,width=4,\n",
    "                               edge_cmap=plt.cm.Blues, arrows=True)\n",
    "plt.colorbar(edges, label='Edge flow')\n",
    "plt.colorbar(nodes, label='Node source')\n",
    "plt.axis('off')\n",
    "plt.show()"
   ]
  }
 ],
 "metadata": {
  "kernelspec": {
   "display_name": "Python 2",
   "language": "python",
   "name": "python2"
  },
  "language_info": {
   "codemirror_mode": {
    "name": "ipython",
    "version": 2
   },
   "file_extension": ".py",
   "mimetype": "text/x-python",
   "name": "python",
   "nbconvert_exporter": "python",
   "pygments_lexer": "ipython2",
   "version": "2.7.12"
  }
 },
 "nbformat": 4,
 "nbformat_minor": 1
}
