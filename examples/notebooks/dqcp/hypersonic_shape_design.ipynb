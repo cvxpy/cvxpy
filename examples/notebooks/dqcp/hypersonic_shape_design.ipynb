{
  "nbformat": 4,
  "nbformat_minor": 0,
  "metadata": {
    "colab": {
      "name": "QuasiconvexAerospaceShapeDesignExample.ipynb",
      "provenance": [],
      "collapsed_sections": []
    },
    "kernelspec": {
      "name": "python3",
      "display_name": "Python 3"
    }
  },
  "cells": [
    {
      "cell_type": "markdown",
      "metadata": {
        "id": "8FaMeOrwYSgB",
        "colab_type": "text"
      },
      "source": [
        "# Aerospace Design via Quasiconvex Optimization \n",
        "\n",
        "Consider a triangle, or a wedge, located within a hypersonic flow. A standard aerospace design optimization problem is to design the wedge to maximize the lift-to-drag ratio (L/D) (or conversely minimize the D/L ratio), subject to certain geometric constraints. In this example, the wedge is known to have a constant hypotenuse, and our job is to choose its width and height.\n",
        "\n",
        "The drag-to-lift ratio is given by\n",
        "\n",
        "\\begin{equation}\n",
        "\\frac{\\mathrm{D}}{\\mathrm{L}} = \\frac{\\mathrm{c_d}}{\\mathrm{c_l}},\n",
        "\\end{equation}\n",
        "\n",
        "where $\\mathrm{c_d}$ and $\\mathrm{c_l}$ are drag and lift coefficients, respectively, that are obtained by integrating the projection of the pressure coefficient in directions parallel to, and perpendicular to, the body.\n",
        "\n",
        "It turns out that the the drag-to-lift ratio is a quasilinear function, as we'll now show. We will assume the pressure coefficient is given by the Newtonian sine-squared law for whetted areas of the body,\n",
        "\n",
        "\\begin{equation}\n",
        "\\mathrm{c_p} = 2(\\hat{v}\\cdot\\hat{n})^2\n",
        "\\end{equation}\n",
        "\n",
        "and elsewhere $\\mathrm{c_p} = 0$. Here, $\\hat{v}$ is the free stream direction, which for simplicity we will assume is parallel to the body so that, $\\hat{v} = \\langle 1, 0 \\rangle$, and $\\hat{n}$ is the local unit normal. For a wedge defined by width $\\Delta x$, and height $\\Delta y$, \n",
        "\n",
        "\\begin{equation}\n",
        "\\hat{n} = \\langle -\\Delta y/s,-\\Delta x/s \\rangle\n",
        "\\end{equation}\n",
        "\n",
        "where $s$ is the hypotenuse length. Therefore,\n",
        "\n",
        "\\begin{equation}\n",
        "\\mathrm{c_p} = 2((1)(-\\Delta y/s)+(0)(-\\Delta x/s))^2 = \\frac{2 \\Delta y^2}{s^2}\n",
        "\\end{equation}\n",
        "\n",
        "The lift and drag coefficients are given by\n",
        "\n",
        "\\begin{align*}\n",
        "\\mathrm{c_d} &= \\frac{1}{c}\\int_0^s -\\mathrm{c_p}\\hat{n}_x \\mathrm{d}s \\\\\n",
        "\\mathrm{c_l} &= \\frac{1}{c}\\int_0^s -\\mathrm{c_p}\\hat{n}_y \\mathrm{d}s\n",
        "\\end{align*}\n",
        "\n",
        "Where $c$ is the reference chord length of the body. Given that $\\hat{n}$, and therefore $\\mathrm{c_p}$ are constant over the whetted surface of the body,\n",
        "\n",
        "\\begin{align*}\n",
        "\\mathrm{c_d} &= -\\frac{s}{c}\\mathrm{c_p}\\hat{n}_x = \\frac{s}{c}\\frac{2 \\Delta y^2}{s^2}\\frac{\\Delta y}{s} \\\\\n",
        "\\mathrm{c_l} &= -\\frac{s}{c}\\mathrm{c_p}\\hat{n}_y = \\frac{s}{c}\\frac{2 \\Delta y^2}{s^2}\\frac{\\Delta x}{s}\n",
        "\\end{align*}\n",
        "\n",
        "Assuming $s=1$, so that $\\Delta y = \\sqrt{1-\\Delta x^2}$, plugging in the above into the equation for $D/L$, we obtain \n",
        "\n",
        "\\begin{equation}\n",
        "\\frac{\\mathrm{D}}{\\mathrm{L}} = \\frac{\\Delta y}{\\Delta x} = \\frac{\\sqrt{1-\\Delta x^2}}{\\Delta x} = \\sqrt{\\frac{1}{\\Delta x^2}-1}.\n",
        "\\end{equation}\n",
        "\n",
        "This function is representable as a DQCP, quasilinear function. We plot it below, and then we write it using DQCP.\n"
      ]
    },
    {
      "cell_type": "code",
      "metadata": {
        "id": "1Sx2TUDOXwQ7",
        "colab_type": "code",
        "outputId": "993dfb1c-3f01-499e-8282-28a72de83a2a",
        "colab": {
          "base_uri": "https://localhost:8080/",
          "height": 283
        }
      },
      "source": [
        "%matplotlib inline\n",
        "\n",
        "import matplotlib\n",
        "import numpy as np\n",
        "import matplotlib.pyplot as plt\n",
        "import math\n",
        "\n",
        "x = np.linspace(.25,1,num=201)\n",
        "obj = []\n",
        "for i in range(len(x)):\n",
        "    obj.append(math.sqrt(1/x[i]**2-1))\n",
        "\n",
        "plt.plot(x,obj)"
      ],
      "execution_count": 0,
      "outputs": [
        {
          "output_type": "execute_result",
          "data": {
            "text/plain": [
              "[<matplotlib.lines.Line2D at 0x7f571d7bfdd8>]"
            ]
          },
          "metadata": {
            "tags": []
          },
          "execution_count": 1
        },
        {
          "output_type": "display_data",
          "data": {
            "image/png": "[encoded data removed]",
            "text/plain": [
              "<Figure size 432x288 with 1 Axes>"
            ]
          },
          "metadata": {
            "tags": []
          }
        }
      ]
    },
    {
      "cell_type": "code",
      "metadata": {
        "id": "yXdP_PXeXyJI",
        "colab_type": "code",
        "outputId": "aecdeea8-cf8b-4c95-f88b-206415d70df3",
        "colab": {
          "base_uri": "https://localhost:8080/",
          "height": 34
        }
      },
      "source": [
        "import cvxpy as cp\n",
        "\n",
        "x = cp.Variable(pos=True)\n",
        "obj = cp.sqrt(cp.inv_pos(cp.square(x))-1)\n",
        "print(\"This objective function is\", obj.curvature)"
      ],
      "execution_count": 0,
      "outputs": [
        {
          "output_type": "stream",
          "text": [
            "This objective function is QUASILINEAR\n"
          ],
          "name": "stdout"
        }
      ]
    },
    {
      "cell_type": "markdown",
      "metadata": {
        "id": "N_wi4BJuYRKh",
        "colab_type": "text"
      },
      "source": [
        "Minimizing this objective function subject to constraints representing payload requirements is a standard aerospace design problem. In this case we will consider the constraint that the wedge must be able to contain a rectangle of given length and width internally along its hypotenuse. This is representable as a convex constraint."
      ]
    },
    {
      "cell_type": "code",
      "metadata": {
        "id": "wrXBd8faStXs",
        "colab_type": "code",
        "outputId": "3dbe0fcf-cb39-4109-f8ba-e5c3d8a0cd14",
        "colab": {
          "base_uri": "https://localhost:8080/",
          "height": 34
        }
      },
      "source": [
        "a = .05 # USER INPUT: height of rectangle, should be at most b\n",
        "b = .65 # USER INPUT: width of rectangle\n",
        "constraint = [a*cp.inv_pos(x)-(1-b)*cp.sqrt(1-cp.square(x))<=0]\n",
        "print(constraint)"
      ],
      "execution_count": 0,
      "outputs": [
        {
          "output_type": "stream",
          "text": [
            "[Inequality(Expression(CONVEX, UNKNOWN, ()))]\n"
          ],
          "name": "stdout"
        }
      ]
    },
    {
      "cell_type": "code",
      "metadata": {
        "id": "43nliP73StzN",
        "colab_type": "code",
        "outputId": "1e3a3170-cb98-4c70-949e-9c2ded0d0de8",
        "colab": {
          "base_uri": "https://localhost:8080/",
          "height": 734
        }
      },
      "source": [
        "prob = cp.Problem(cp.Minimize(obj), constraint)\n",
        "prob.solve(qcp=True, verbose=True)\n",
        "print('Final L/D Ratio = ', 1/obj.value)\n",
        "print('Final width of wedge = ', x.value)\n",
        "print('Final height of wedge = ', math.sqrt(1-x.value**2))"
      ],
      "execution_count": 0,
      "outputs": [
        {
          "output_type": "stream",
          "text": [
            "\n",
            "********************************************************************************\n",
            "Preparing to bisect problem\n",
            "\n",
            "minimize 0.0\n",
            "subject to 0.05 * var30766 + -0.35 * var30793 <= 0.0\n",
            "           SOC(reshape(var30747 + var30766, (1,)), Vstack(reshape(var30747 + -var30766, (1, 1)), reshape(2.0 * 1.0, (1, 1))))\n",
            "           SOC(reshape(var30779 + 1.0, (1,)), Vstack(reshape(var30779 + -1.0, (1, 1)), reshape(2.0 * var30747, (1, 1))))\n",
            "           SOC(reshape(1.0 + -var30779 + 1.0, (1,)), Vstack(reshape(1.0 + -var30779 + -1.0, (1, 1)), reshape(2.0 * var30793, (1, 1))))\n",
            "           power(power(power(param30811, 2) + --1.0, -1), 1/2) <= var30747\n",
            "\n",
            "Finding interval for bisection ...\n",
            "initial lower bound: 0.000000\n",
            "initial upper bound: 1.000000\n",
            "\n",
            "(iteration 0) lower bound: 0.000000\n",
            "(iteration 0) upper bound: 1.000000\n",
            "(iteration 0) query point: 0.500000 \n",
            "(iteration 0) query was feasible. Solution(status=optimal, opt_val=0.0, primal_vars={30766: array(1.28425055), 30793: array(0.32048066), 30747: 0.9203698369509382, 30779: array(0.86287821)}, dual_vars={30764: 1.184352986830617e-10, 30775: array([ 7.68139086e-12, -9.11799720e-13, -6.85059567e-12]), 30788: array([ 6.73308751e-11,  7.50722737e-12, -6.55220021e-11]), 30802: array([ 4.04979217e-11,  3.43109122e-11, -1.68754271e-11]), 30835: 1.4165742899966837e-10}, attr={'solve_time': 6.0109e-05, 'setup_time': 4.4997e-05, 'num_iters': 7}))\n",
            "\n",
            "(iteration 5) lower bound: 0.125000\n",
            "(iteration 5) upper bound: 0.156250\n",
            "(iteration 5) query point: 0.140625 \n",
            "(iteration 5) query was infeasible.\n",
            "\n",
            "(iteration 10) lower bound: 0.145508\n",
            "(iteration 10) upper bound: 0.146484\n",
            "(iteration 10) query point: 0.145996 \n",
            "(iteration 10) query was feasible. Solution(status=optimal, opt_val=0.0, primal_vars={30766: array(1.01067238), 30793: array(0.14440604), 30747: 0.9895144829793, 30779: array(0.97914383)}, dual_vars={30764: 1.2610785752467482e-05, 30775: array([ 6.37367039e-07,  6.73702792e-09, -6.37322961e-07]), 30788: array([ 1.50627898e-05,  1.58286953e-07, -1.50619494e-05]), 30802: array([ 7.77053008e-06,  7.45051237e-06, -2.20683981e-06]), 30835: 2.948014872712083e-05}, attr={'solve_time': 0.000114922, 'setup_time': 3.6457e-05, 'num_iters': 10}))\n",
            "\n",
            "(iteration 15) lower bound: 0.145874\n",
            "(iteration 15) upper bound: 0.145905\n",
            "(iteration 15) query point: 0.145889 \n",
            "(iteration 15) query was infeasible.\n",
            "\n",
            "Bisection completed, with lower bound 0.145897 and upper bound 0.1458979\n",
            "********************************************************************************\n",
            "\n",
            "Final L/D Ratio =  6.854107648695203\n",
            "Final width of wedge =  0.9895238539767502\n",
            "Final height of wedge =  0.14436946495363565\n"
          ],
          "name": "stdout"
        }
      ]
    },
    {
      "cell_type": "markdown",
      "metadata": {
        "id": "mapH_CrHuKVU",
        "colab_type": "text"
      },
      "source": [
        "Once the solution has been found, we can create a plot to verify that the rectangle is inscribed within the wedge."
      ]
    },
    {
      "cell_type": "code",
      "metadata": {
        "id": "fxfYRD7Jga2R",
        "colab_type": "code",
        "outputId": "fea6812f-ab04-4879-a1a4-69e84f515736",
        "colab": {
          "base_uri": "https://localhost:8080/",
          "height": 333
        }
      },
      "source": [
        "y = math.sqrt(1-x.value**2)\n",
        "lambda1 = a*x.value/y\n",
        "lambda2 = a*x.value**2/y+a*y\n",
        "lambda3 = a*x.value-y*(a*x.value/y-b)\n",
        "\n",
        "plt.plot([0,x.value],[0,0],'b.-')\n",
        "plt.plot([0,x.value],[0,-y],'b.-')\n",
        "plt.plot([x.value,x.value],[0,-y],'b.-')\n",
        "\n",
        "pt1 = [lambda1*x.value,-lambda1*y]\n",
        "pt2 = [(lambda1+b)*x.value,-(lambda1+b)*y]\n",
        "pt3 = [(lambda1+b)*x.value+a*y,-(lambda1+b)*y+a*x.value]\n",
        "pt4 = [lambda1*x.value+a*y,-lambda1*y+a*x.value]\n",
        "\n",
        "plt.plot([pt1[0],pt2[0]],[pt1[1],pt2[1]],'r.-')\n",
        "plt.plot([pt2[0],pt3[0]],[pt2[1],pt3[1]],'r.-')\n",
        "plt.plot([pt3[0],pt4[0]],[pt3[1],pt4[1]],'r.-')\n",
        "plt.plot([pt4[0],pt1[0]],[pt4[1],pt1[1]],'r.-')\n",
        "\n",
        "plt.axis('equal')"
      ],
      "execution_count": 0,
      "outputs": [
        {
          "output_type": "execute_result",
          "data": {
            "text/plain": [
              "(-0.04947620645689951,\n",
              " 1.0390003355948896,\n",
              " -0.15158793820131744,\n",
              " 0.0072184732476817896)"
            ]
          },
          "metadata": {
            "tags": []
          },
          "execution_count": 72
        },
        {
          "output_type": "display_data",
          "data": {
            "image/png": "[encoded data removed]",
            "text/plain": [
              "<Figure size 432x288 with 1 Axes>"
            ]
          },
          "metadata": {
            "tags": []
          }
        }
      ]
    }
  ]
}