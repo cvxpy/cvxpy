{
  "nbformat": 4,
  "nbformat_minor": 0,
  "metadata": {
    "colab": {
      "name": "concave_fractional_function.ipynb",
      "version": "0.3.2",
      "provenance": [],
      "collapsed_sections": []
    },
    "kernelspec": {
      "name": "python3",
      "display_name": "Python 3"
    }
  },
  "cells": [
    {
      "cell_type": "markdown",
      "metadata": {
        "id": "hj5vNlJzqoQr",
        "colab_type": "text"
      },
      "source": [
        "# Fractional optimization\n",
        "\n",
        "This notebook shows how to solve a simple *concave fractional problem*, in which the objective is to maximize the ratio of a nonnegative concave function and a positive\n",
        "convex function. Concave fractional problems are quasiconvex programs (QCPs). They can be specified using disciplined quasiconvex programming ([DQCP](https://www.cvxpy.org/tutorial/dqcp/index.html)), and hence can be solved using CVXPY."
      ]
    },
    {
      "cell_type": "code",
      "metadata": {
        "id": "310PJvINl2JU",
        "colab_type": "code",
        "colab": {
          "base_uri": "https://localhost:8080/",
          "height": 187
        },
        "outputId": "bdd451f6-2c9f-4185-8f3f-d8756dd97c95"
      },
      "source": [
        "!pip install --upgrade cvxpy"
      ],
      "execution_count": 13,
      "outputs": [
        {
          "output_type": "stream",
          "text": [
            "Requirement already up-to-date: cvxpy in /usr/local/lib/python3.6/dist-packages (1.0.23)\n",
            "Requirement already satisfied, skipping upgrade: scs>=1.1.3 in /usr/local/lib/python3.6/dist-packages (from cvxpy) (2.1.0)\n",
            "Requirement already satisfied, skipping upgrade: multiprocess in /usr/local/lib/python3.6/dist-packages (from cvxpy) (0.70.7)\n",
            "Requirement already satisfied, skipping upgrade: numpy>=1.15 in /usr/local/lib/python3.6/dist-packages (from cvxpy) (1.16.3)\n",
            "Requirement already satisfied, skipping upgrade: scipy>=1.1.0 in /usr/local/lib/python3.6/dist-packages (from cvxpy) (1.3.0)\n",
            "Requirement already satisfied, skipping upgrade: ecos>=2 in /usr/local/lib/python3.6/dist-packages (from cvxpy) (2.0.7.post1)\n",
            "Requirement already satisfied, skipping upgrade: osqp>=0.4.1 in /usr/local/lib/python3.6/dist-packages (from cvxpy) (0.5.0)\n",
            "Requirement already satisfied, skipping upgrade: six in /usr/local/lib/python3.6/dist-packages (from cvxpy) (1.12.0)\n",
            "Requirement already satisfied, skipping upgrade: dill>=0.2.9 in /usr/local/lib/python3.6/dist-packages (from multiprocess->cvxpy) (0.2.9)\n",
            "Requirement already satisfied, skipping upgrade: future in /usr/local/lib/python3.6/dist-packages (from osqp>=0.4.1->cvxpy) (0.16.0)\n"
          ],
          "name": "stdout"
        }
      ]
    },
    {
      "cell_type": "code",
      "metadata": {
        "id": "ehIgvu6rmlRr",
        "colab_type": "code",
        "colab": {}
      },
      "source": [
        "import cvxpy as cp\n",
        "import numpy as np\n",
        "import matplotlib.pyplot as plt"
      ],
      "execution_count": 0,
      "outputs": []
    },
    {
      "cell_type": "markdown",
      "metadata": {
        "id": "j8E5ouimrBoV",
        "colab_type": "text"
      },
      "source": [
        "Our goal is to minimize the function\n",
        "\n",
        "$$\\frac{\\sqrt{x}}{\\exp(x)}.$$\n",
        "\n",
        "This function is not concave, but it is quasiconcave, as can be seen by inspecting its graph."
      ]
    },
    {
      "cell_type": "code",
      "metadata": {
        "id": "AgPgroRVm5Mz",
        "colab_type": "code",
        "colab": {
          "base_uri": "https://localhost:8080/",
          "height": 269
        },
        "outputId": "65bd8263-698c-49a5-d7d1-290718e7a43e"
      },
      "source": [
        "plt.plot([np.sqrt(y) / np.exp(y) for y in np.linspace(0, 10)])\n",
        "plt.show()"
      ],
      "execution_count": 15,
      "outputs": [
        {
          "output_type": "display_data",
          "data": {
            "image/png": "[encoded data removed]",
            "text/plain": [
              "<Figure size 432x288 with 1 Axes>"
            ]
          },
          "metadata": {
            "tags": []
          }
        }
      ]
    },
    {
      "cell_type": "markdown",
      "metadata": {
        "id": "-jgzBqQ6rZPM",
        "colab_type": "text"
      },
      "source": [
        "The below code specifies and solves the QCP, using DQCP. The concave fraction function is DQCP-compliant, because the ratio atom is quasiconcave (actually, quasilinear), increasing in the numerator when the denominator is positive, and decreasing in the denominator when the numerator is nonnegative."
      ]
    },
    {
      "cell_type": "code",
      "metadata": {
        "id": "uAbu67IemoDK",
        "colab_type": "code",
        "colab": {
          "base_uri": "https://localhost:8080/",
          "height": 34
        },
        "outputId": "a1e231df-a97d-43ca-a427-5290bbb8bff5"
      },
      "source": [
        "x = cp.Variable()\n",
        "concave_fractional_fn = cp.sqrt(x) / cp.exp(x)\n",
        "problem = cp.Problem(cp.Maximize(concave_fractional_fn))\n",
        "assert problem.is_dqcp()\n",
        "problem.solve(qcp=True)"
      ],
      "execution_count": 16,
      "outputs": [
        {
          "output_type": "execute_result",
          "data": {
            "text/plain": [
              "0.4288821220397949"
            ]
          },
          "metadata": {
            "tags": []
          },
          "execution_count": 16
        }
      ]
    },
    {
      "cell_type": "code",
      "metadata": {
        "id": "9auLCvH3m366",
        "colab_type": "code",
        "colab": {
          "base_uri": "https://localhost:8080/",
          "height": 34
        },
        "outputId": "8511813a-562a-4cae-deaf-504d6c825aa6"
      },
      "source": [
        "x.value"
      ],
      "execution_count": 17,
      "outputs": [
        {
          "output_type": "execute_result",
          "data": {
            "text/plain": [
              "array(0.50000165)"
            ]
          },
          "metadata": {
            "tags": []
          },
          "execution_count": 17
        }
      ]
    }
  ]
}