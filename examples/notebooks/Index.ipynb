{
 "metadata": {
  "name": "",
  "signature": "sha256:8dc7465110c8389aa274d36cc286e9f05d11352ce3c4666cfb8081683e20d0a6"
 },
 "nbformat": 3,
 "nbformat_minor": 0,
 "worksheets": [
  {
   "cells": [
    {
     "cell_type": "heading",
     "level": 1,
     "metadata": {},
     "source": [
      "Collection of CVXPY Notebooks"
     ]
    },
    {
     "cell_type": "markdown",
     "metadata": {},
     "source": [
      "This is a collection of documentation for CVXPY, in the [IPython Notebooks](http://ipython.org/notebook.html) format.\n",
      "\n",
      "This set complements the sphinx-based [html documentation](http://www.cvxpy.org/en/latest/)."
     ]
    },
    {
     "cell_type": "heading",
     "level": 2,
     "metadata": {},
     "source": [
      "Tutorial"
     ]
    },
    {
     "cell_type": "markdown",
     "metadata": {},
     "source": [
      "* [What is CVXPY?](tutorial.ipynb ): a quick presentation on how to model a convex optimization problem in Python, using CVXPY\n",
      "\n",
      "* [Disciplined Convex Programming](DCP.ipynb): the DCP method and rules, step by step\n",
      "\n",
      "* [Functions](Functions.ipynb): functions that can be applied to CVXPY expressions\n",
      "\n",
      "* [Advanced](advanced.ipynb): advanced aspects of CVXPY (dual variables, Semi-definite matrices, Interaction with solvers, ...)"
     ]
    },
    {
     "cell_type": "heading",
     "level": 2,
     "metadata": {},
     "source": [
      "Examples"
     ]
    },
    {
     "cell_type": "markdown",
     "metadata": {},
     "source": [
      "* [Total Variation In-Painting](TV In-Painting.ipynb): an image reconstruction example\n",
      "\n",
      "* [Object Oriented Convex Optimization](OOCO.ipynb): a *max-flow problem on a graph*, to illustrate an object-oriented approach to constructing optimization problems"
     ]
    },
    {
     "cell_type": "markdown",
     "metadata": {},
     "source": [
      "### from the CVX Example library\n",
      "\n",
      "Matlab examples for the CVX toolbox (http://cvxr.com/cvx/examples/), ported to Python and CVXPY\n",
      "\n",
      "* [L1 trend filtering](cvx_ports/time_series_analysis/l1_trend_filter_snp500.ipynb): estimation of a piecewise linear trends in time series\n",
      "\n",
      "* [Antenna array design](cvx_ports/antenna_array_design/ant_array_min_beamwidth.ipynb): Minimize beamwidth of an antenna array with arbitrary 2-D geometry\n",
      "\n",
      "* [Circuit design](cvx_ports/circuit_design/clock_mesh.ipynb): Sizing of clock meshes\n",
      "\n",
      "* [Filter design](cvx_ports/filter_design/fir_chebychev_design.ipynb): Chebychev design of an FIR filter given a desired frequency response\n",
      "\n",
      "* Examples employing logarithms, exponentials, and entropy functions\n",
      "\n",
      "    * [Entropy maximization](cvx_ports/log_exp/max_entropy.ipynb)\n",
      "    * [Sparse covariance](cvx_ports/log_exp/sparse_covariance_est.ipynb): \n",
      "Sparse covariance estimation for Gaussian variables\n",
      "\n",
      "* Sparse solution heuristics\n",
      "\n",
      "    * [Linear inequalities](cvx_ports/sparse_heuristics/sparse_solution.ipynb): Computing a sparse solution of a set of linear inequalities\n",
      "    \n",
      "* [Nonnegative matrix factorization](cvx_ports/nonneg_matrix_fact.ipynb)"
     ]
    },
    {
     "cell_type": "markdown",
     "metadata": {},
     "source": [
      "### from the Convex Optimization book\n",
      "\n",
      "Solutions to some of the *\"Additional Exercises for Convex Optimization\"* by Stephen Boyd and Lieven Vandenberghe.\n",
      "\n",
      "(cf. PDF at http://www.stanford.edu/~boyd/cvxbook/bv_cvxbook_extra_exercises.pdf)\n",
      "\n",
      "\n",
      "* [extra exercise 3.18](pa3p18.ipynb): Heuristic suboptimal solution for Boolean LP\n",
      "* [extra exercise 13.3](pa13p3.ipynb): Simple portfolio optimization"
     ]
    },
    {
     "cell_type": "heading",
     "level": 2,
     "metadata": {},
     "source": [
      "External Notebooks"
     ]
    },
    {
     "cell_type": "markdown",
     "metadata": {},
     "source": [
      "External ressources on related topics\n",
      "\n",
      "* [Convex Optimization: A Practical Guide](http://nbviewer.ipython.org/url/www.mechatronics3d.com/cvxguide.ipynb), by Behzad Samadi, http://www.mechatronics3d.com/"
     ]
    }
   ],
   "metadata": {}
  }
 ]
}