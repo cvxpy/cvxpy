{
 "metadata": {
  "name": ""
 },
 "nbformat": 3,
 "nbformat_minor": 0,
 "worksheets": [
  {
   "cells": [
    {
     "cell_type": "heading",
     "level": 1,
     "metadata": {},
     "source": [
      "Welcome to the cvxpy ipython tutorial. We'll start with some of the basics of cvxpy and move on from there."
     ]
    },
    {
     "cell_type": "raw",
     "metadata": {},
     "source": [
      "Let's import our libraries and generate some problem data first. If you have trouble importing cvxpy, make sure you have its dependencies installed, including cvxopt and ecos, using easy_install for example."
     ]
    },
    {
     "cell_type": "code",
     "collapsed": false,
     "input": [
      "import cvxpy as cp\n",
      "import cvxopt\n",
      "\n",
      "# Problem data.\n",
      "m = 30\n",
      "n = 20\n",
      "A = cvxopt.normal(m,n)\n",
      "b = cvxopt.normal(m)"
     ],
     "language": "python",
     "metadata": {},
     "outputs": [],
     "prompt_number": 35
    },
    {
     "cell_type": "raw",
     "metadata": {},
     "source": [
      "Now let's create a variable to use in our optimization problem. The call to 'Variable()' takes the variable's dimensions as input. For example, Variable() would be a scalar; Variable(3) would be a 3-dimensional column vector; Variable(2,2) would be a 2-by-2 matrix."
     ]
    },
    {
     "cell_type": "code",
     "collapsed": false,
     "input": [
      "x = cp.Variable(n)"
     ],
     "language": "python",
     "metadata": {},
     "outputs": [],
     "prompt_number": 36
    },
    {
     "cell_type": "markdown",
     "metadata": {},
     "source": [
      "We can now construct our objective function. This takes as argument an 'expression', which in this case uses the norm 'atom'. The expression must follow DCP rules, as illustrated <a href=\"http://dcp.stanford.edu\">here</a>. We can choose to minimize or maximize. Let's minimize the 2-norm as follows."
     ]
    },
    {
     "cell_type": "code",
     "collapsed": false,
     "input": [
      "objective = cp.Minimize( cp.norm(A*x - b, 2) )"
     ],
     "language": "python",
     "metadata": {},
     "outputs": [],
     "prompt_number": 37
    },
    {
     "cell_type": "raw",
     "metadata": {},
     "source": [
      "We can add constraints in array form, or simply have an empty array for no constraints."
     ]
    },
    {
     "cell_type": "code",
     "collapsed": false,
     "input": [
      "constraints = [ 0 <= x, x <= 1 ]"
     ],
     "language": "python",
     "metadata": {},
     "outputs": [],
     "prompt_number": 38
    },
    {
     "cell_type": "raw",
     "metadata": {},
     "source": [
      "Finally, we can construct our 'Problem' object with the objective and constraints, then solve it."
     ]
    },
    {
     "cell_type": "code",
     "collapsed": false,
     "input": [
      "problem = cp.Problem(objective, constraints)"
     ],
     "language": "python",
     "metadata": {},
     "outputs": [],
     "prompt_number": 39
    },
    {
     "cell_type": "code",
     "collapsed": false,
     "input": [
      "result = problem.solve()"
     ],
     "language": "python",
     "metadata": {},
     "outputs": [
      {
       "output_type": "stream",
       "stream": "stdout",
       "text": [
        "\n",
        "ECOS - (c) A. Domahidi, Automatic Control Laboratory, ETH Zurich, 2012-13.\n",
        "\n",
        "It     pcost         dcost      gap     pres    dres     k/t     mu     step    IR\n",
        " 0   +0.000e+00   -2.000e+01   +2e+02   3e+00   1e+00   1e+00   4e+00   N/A    1 1 -\n",
        " 1   +3.168e+00   -2.497e+00   +1e+02   1e+00   3e-01   2e+00   3e+00  0.5441  1 1 1\n",
        " 2   +3.038e+00   +2.621e+00   +2e+01   1e-01   4e-02   4e-01   6e-01  0.8508  1 1 1\n",
        " 3   +3.447e+00   +3.293e+00   +6e+00   4e-02   1e-02   8e-02   2e-01  0.8574  1 1 1\n",
        " 4   +3.529e+00   +3.500e+00   +1e+00   6e-03   2e-03   1e-02   3e-02  0.8304  1 1 1\n",
        " 5   +3.546e+00   +3.538e+00   +3e-01   2e-03   5e-04   2e-03   8e-03  0.8555  1 1 1\n",
        " 6   +3.549e+00   +3.547e+00   +9e-02   4e-04   1e-04   4e-04   2e-03  0.8013  2 1 1\n",
        " 7   +3.550e+00   +3.550e+00   +1e-02   6e-05   2e-05   4e-05   3e-04  0.9169  2 1 1\n",
        " 8   +3.550e+00   +3.550e+00   +3e-03   1e-05   4e-06   7e-06   7e-05  0.8723  2 1 1\n",
        " 9   +3.550e+00   +3.550e+00   +4e-04   2e-06   5e-07   8e-07   9e-06  0.9150  2 1 1\n",
        "10   +3.550e+00   +3.550e+00   +8e-05   3e-07   1e-07   1e-07   2e-06  0.8535  2 1 1\n",
        "11   +3.550e+00   +3.550e+00   +2e-06   1e-08   3e-09   4e-09   5e-08  0.9741  2 1 1\n",
        "\n",
        "OPTIMAL (within feastol=1.0e-05, reltol=1.0e-06, abstol=1.0e-06).\n",
        "Runtime: 0.001660 seconds.\n",
        "\n"
       ]
      }
     ],
     "prompt_number": 40
    },
    {
     "cell_type": "raw",
     "metadata": {},
     "source": [
      "This returns the optimal objective as our result. The optimal value is stored in x.value, and associated optimal Lagrange multiplier in constraints[0].dual_value."
     ]
    },
    {
     "cell_type": "code",
     "collapsed": false,
     "input": [
      "print x.value"
     ],
     "language": "python",
     "metadata": {},
     "outputs": [
      {
       "output_type": "stream",
       "stream": "stdout",
       "text": [
        "[ 3.71e-01]\n",
        "[ 1.99e-02]\n",
        "[ 1.85e-09]\n",
        "[-3.73e-09]\n",
        "[-8.81e-09]\n",
        "[-4.11e-09]\n",
        "[ 2.22e-01]\n",
        "[-8.40e-09]\n",
        "[ 7.66e-04]\n",
        "[ 1.09e-01]\n",
        "[-7.64e-09]\n",
        "[ 3.03e-01]\n",
        "[ 2.49e-01]\n",
        "[ 2.70e-01]\n",
        "[ 4.09e-02]\n",
        "[-2.14e-09]\n",
        "[ 8.82e-03]\n",
        "[ 7.89e-01]\n",
        "[ 3.80e-09]\n",
        "[ 5.33e-02]\n",
        "\n"
       ]
      }
     ],
     "prompt_number": 41
    },
    {
     "cell_type": "code",
     "collapsed": false,
     "input": [
      "print constraints[0].dual_value"
     ],
     "language": "python",
     "metadata": {},
     "outputs": [
      {
       "output_type": "stream",
       "stream": "stdout",
       "text": [
        "[ 8.89e-09]\n",
        "[ 1.57e-07]\n",
        "[ 2.38e-01]\n",
        "[ 4.07e-01]\n",
        "[ 1.06e+00]\n",
        "[ 4.33e-01]\n",
        "[ 1.49e-08]\n",
        "[ 9.61e-01]\n",
        "[ 4.94e-06]\n",
        "[ 3.05e-08]\n",
        "[ 7.84e-01]\n",
        "[ 1.08e-08]\n",
        "[ 1.32e-08]\n",
        "[ 1.23e-08]\n",
        "[ 7.85e-08]\n",
        "[ 3.40e-01]\n",
        "[ 3.59e-07]\n",
        "[ 4.18e-09]\n",
        "[ 2.09e-01]\n",
        "[ 6.22e-08]\n",
        "\n"
       ]
      }
     ],
     "prompt_number": 43
    },
    {
     "cell_type": "raw",
     "metadata": {},
     "source": [
      "And voil\u00e0, you have solved your first optimization problem using cvxpy!"
     ]
    }
   ],
   "metadata": {}
  }
 ]
}